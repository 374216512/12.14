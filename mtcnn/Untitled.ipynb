{
 "cells": [
  {
   "cell_type": "code",
   "execution_count": 2,
   "metadata": {
    "pycharm": {
     "name": "#%%\n"
    }
   },
   "outputs": [],
   "source": [
    "#!pip install protobuf"
   ]
  },
  {
   "cell_type": "code",
   "execution_count": 2,
   "metadata": {
    "pycharm": {
     "name": "#%%\n"
    }
   },
   "outputs": [],
   "source": [
    "import caffe_pb2"
   ]
  },
  {
   "cell_type": "code",
   "execution_count": 3,
   "metadata": {
    "pycharm": {
     "name": "#%%\n"
    }
   },
   "outputs": [],
   "source": [
    "net = caffe_pb2.NetParameter()\n",
    "with open(\"det1.caffemodel\", \"rb\") as f:\n",
    "    net.ParseFromString(f.read())"
   ]
  },
  {
   "cell_type": "code",
   "execution_count": 6,
   "metadata": {
    "pycharm": {
     "name": "#%%\n"
    }
   },
   "outputs": [
    {
     "data": {
      "text/plain": [
       "name: \"conv1\"\n",
       "type: \"Convolution\"\n",
       "bottom: \"data12face\"\n",
       "top: \"conv1\"\n",
       "param {\n",
       "  lr_mult: 1.0\n",
       "  decay_mult: 1.0\n",
       "}\n",
       "param {\n",
       "  lr_mult: 2.0\n",
       "  decay_mult: 0.0\n",
       "}\n",
       "blobs {\n",
       "  data: -0.08164716\n",
       "  data: -0.015041245\n",
       "  data: 0.124573864\n",
       "  data: 0.83591545\n",
       "  data: 0.23798521\n",
       "  data: -0.4108176\n",
       "  data: 1.2464966\n",
       "  data: -1.3452641\n",
       "  data: -0.5807721\n",
       "  data: -0.2663099\n",
       "  data: 0.29752547\n",
       "  data: 0.10301049\n",
       "  data: 0.8521554\n",
       "  data: 0.320185\n",
       "  data: -0.33211762\n",
       "  data: 0.5174389\n",
       "  data: -1.0906495\n",
       "  data: -0.49633175\n",
       "  data: -0.13688956\n",
       "  data: 0.101612985\n",
       "  data: -0.17933746\n",
       "  data: 0.01641168\n",
       "  data: 0.4359\n",
       "  data: -0.103418455\n",
       "  data: 0.033679444\n",
       "  data: -0.21637864\n",
       "  data: 0.059704833\n",
       "  data: 0.48790067\n",
       "  data: 0.3251334\n",
       "  data: 0.78514\n",
       "  data: -0.874864\n",
       "  data: -0.7899603\n",
       "  data: 0.2713397\n",
       "  data: -2.4023557\n",
       "  data: -0.72439885\n",
       "  data: 0.25449964\n",
       "  data: -0.4945682\n",
       "  data: -0.1312943\n",
       "  data: -0.25007442\n",
       "  data: 0.27103665\n",
       "  data: -0.31626618\n",
       "  data: -0.1839706\n",
       "  data: 1.1370491\n",
       "  data: 0.5234617\n",
       "  data: 0.69139516\n",
       "  data: -0.2957905\n",
       "  data: 0.23039098\n",
       "  data: -0.60144764\n",
       "  data: 1.1879834\n",
       "  data: 0.42563736\n",
       "  data: -0.23094766\n",
       "  data: 1.2591369\n",
       "  data: 0.67422056\n",
       "  data: -0.9644063\n",
       "  data: -0.7042019\n",
       "  data: -0.054862108\n",
       "  data: -0.53375006\n",
       "  data: 0.18163557\n",
       "  data: 0.16692866\n",
       "  data: -0.09970634\n",
       "  data: -0.36158386\n",
       "  data: 0.20309944\n",
       "  data: -0.23770422\n",
       "  data: 0.64413995\n",
       "  data: 0.5240095\n",
       "  data: 0.5634151\n",
       "  data: 0.26856723\n",
       "  data: 0.11958196\n",
       "  data: 0.094966255\n",
       "  data: 0.3319612\n",
       "  data: 0.35970327\n",
       "  data: 0.31466246\n",
       "  data: 0.3933741\n",
       "  data: -0.11159303\n",
       "  data: 0.71034175\n",
       "  data: -0.22909223\n",
       "  data: -0.428691\n",
       "  data: -0.13392697\n",
       "  data: 0.31502733\n",
       "  data: -0.3119749\n",
       "  data: 0.111503854\n",
       "  data: -2.042076\n",
       "  data: -1.3518381\n",
       "  data: 0.27219638\n",
       "  data: -0.5307963\n",
       "  data: 0.9714951\n",
       "  data: 1.1668916\n",
       "  data: 0.16120936\n",
       "  data: 0.659265\n",
       "  data: 0.40014505\n",
       "  data: -0.061987583\n",
       "  data: -0.34683254\n",
       "  data: -0.5114889\n",
       "  data: -0.12610707\n",
       "  data: 0.013289311\n",
       "  data: 0.1501645\n",
       "  data: 0.58500177\n",
       "  data: 0.5690419\n",
       "  data: -0.23701157\n",
       "  data: 0.1861175\n",
       "  data: -0.35845998\n",
       "  data: -0.09928328\n",
       "  data: -0.41665486\n",
       "  data: -0.30838865\n",
       "  data: 0.19942707\n",
       "  data: -0.23634957\n",
       "  data: 0.325002\n",
       "  data: 0.8540823\n",
       "  data: -1.4440769\n",
       "  data: -0.8900413\n",
       "  data: 0.20784411\n",
       "  data: 3.115788\n",
       "  data: 0.84461266\n",
       "  data: 0.2565784\n",
       "  data: -1.2826006\n",
       "  data: -0.77952194\n",
       "  data: -0.04832139\n",
       "  data: -1.1269826\n",
       "  data: -0.049205605\n",
       "  data: 0.075863205\n",
       "  data: 2.3380036\n",
       "  data: 0.3375645\n",
       "  data: 0.053948935\n",
       "  data: -1.1374497\n",
       "  data: -0.4687658\n",
       "  data: -0.020753892\n",
       "  data: -0.59174377\n",
       "  data: 0.43708697\n",
       "  data: -0.09675966\n",
       "  data: 0.9547739\n",
       "  data: -0.5969129\n",
       "  data: -0.18393482\n",
       "  data: -0.5569294\n",
       "  data: 0.38907766\n",
       "  data: 0.21557489\n",
       "  data: -0.30975288\n",
       "  data: -1.2481064\n",
       "  data: -0.68574715\n",
       "  data: 1.108681\n",
       "  data: 0.5375734\n",
       "  data: -0.40051556\n",
       "  data: 0.22149056\n",
       "  data: 0.7131647\n",
       "  data: 0.47752327\n",
       "  data: -0.36787382\n",
       "  data: -1.0780324\n",
       "  data: -0.6459348\n",
       "  data: 0.5855007\n",
       "  data: 0.27793157\n",
       "  data: -0.7225298\n",
       "  data: 0.13157032\n",
       "  data: 0.663042\n",
       "  data: 0.34077227\n",
       "  data: -0.19868691\n",
       "  data: -0.56689006\n",
       "  data: 0.31730798\n",
       "  data: 0.2181431\n",
       "  data: 0.058724035\n",
       "  data: -0.40664688\n",
       "  data: 0.41948262\n",
       "  data: 0.29146525\n",
       "  data: 0.2406108\n",
       "  data: -0.5409197\n",
       "  data: 0.12310863\n",
       "  data: 0.79804206\n",
       "  data: -0.6874566\n",
       "  data: 0.3843668\n",
       "  data: 1.7603908\n",
       "  data: -1.7550305\n",
       "  data: -0.87358516\n",
       "  data: 1.1731586\n",
       "  data: 0.21499255\n",
       "  data: 0.45208922\n",
       "  data: -0.92729086\n",
       "  data: -0.121442296\n",
       "  data: 0.3731584\n",
       "  data: -0.43908328\n",
       "  data: 0.058410004\n",
       "  data: 0.23668653\n",
       "  data: -0.2046883\n",
       "  data: -0.28774455\n",
       "  data: -0.0044987313\n",
       "  data: 0.42203245\n",
       "  data: -0.3037528\n",
       "  data: 0.14538245\n",
       "  data: 0.47635084\n",
       "  data: -0.07930606\n",
       "  data: -0.21874121\n",
       "  data: -0.21345752\n",
       "  data: 1.0725912\n",
       "  data: 0.94492376\n",
       "  data: 0.8421167\n",
       "  data: 0.6264787\n",
       "  data: 1.0201669\n",
       "  data: 0.5825422\n",
       "  data: -1.7609195\n",
       "  data: -1.6218257\n",
       "  data: -1.6864873\n",
       "  data: -0.22563025\n",
       "  data: -0.10274804\n",
       "  data: -0.3428291\n",
       "  data: 0.48706883\n",
       "  data: 0.58217376\n",
       "  data: 0.251585\n",
       "  data: -0.28732145\n",
       "  data: -0.35378125\n",
       "  data: 0.08261069\n",
       "  data: 0.4017067\n",
       "  data: 0.28889853\n",
       "  data: 0.24086411\n",
       "  data: -0.16537747\n",
       "  data: 0.3179296\n",
       "  data: 0.17362948\n",
       "  data: -0.47038868\n",
       "  data: -0.6669773\n",
       "  data: -0.29777452\n",
       "  data: -0.95784664\n",
       "  data: 1.9559071\n",
       "  data: -0.96243966\n",
       "  data: -1.280721\n",
       "  data: 2.313938\n",
       "  data: -1.0256131\n",
       "  data: -0.77318025\n",
       "  data: 1.2953728\n",
       "  data: -0.5686867\n",
       "  data: -0.16833933\n",
       "  data: 0.74754226\n",
       "  data: -0.5269202\n",
       "  data: -0.8830202\n",
       "  data: 1.3671495\n",
       "  data: -0.66813993\n",
       "  data: -0.12744807\n",
       "  data: 0.5782112\n",
       "  data: -0.3479561\n",
       "  data: -0.35232985\n",
       "  data: 0.5751093\n",
       "  data: -0.1618369\n",
       "  data: -0.38415474\n",
       "  data: 0.6146076\n",
       "  data: -0.27905762\n",
       "  data: -0.21577251\n",
       "  data: 0.27121478\n",
       "  data: -0.04423735\n",
       "  data: -0.5648355\n",
       "  data: -0.24465956\n",
       "  data: 0.005898455\n",
       "  data: -1.543447\n",
       "  data: -0.5837737\n",
       "  data: -0.24878131\n",
       "  data: 0.6763327\n",
       "  data: 0.21342099\n",
       "  data: 0.3019583\n",
       "  data: 2.332953\n",
       "  data: 0.9318961\n",
       "  data: 0.120265834\n",
       "  data: 0.8324622\n",
       "  data: 0.96138\n",
       "  data: -0.2600321\n",
       "  data: 0.55821514\n",
       "  data: -0.10409641\n",
       "  data: -0.65340316\n",
       "  data: -1.3352611\n",
       "  data: -0.9541894\n",
       "  data: -0.049981963\n",
       "  data: 0.26984945\n",
       "  data: 0.3225031\n",
       "  data: 0.3450384\n",
       "  data: -1.0192578\n",
       "  data: -0.45462683\n",
       "  data: 0.50872\n",
       "  shape {\n",
       "    dim: 10\n",
       "    dim: 3\n",
       "    dim: 3\n",
       "    dim: 3\n",
       "  }\n",
       "}\n",
       "blobs {\n",
       "  data: -0.08283687\n",
       "  data: 0.91978\n",
       "  data: 1.1886699\n",
       "  data: 0.08680683\n",
       "  data: -0.01940844\n",
       "  data: -0.031458907\n",
       "  data: 0.13236046\n",
       "  data: -0.052203927\n",
       "  data: 0.007651808\n",
       "  data: 0.6673176\n",
       "  shape {\n",
       "    dim: 10\n",
       "  }\n",
       "}\n",
       "phase: TRAIN\n",
       "convolution_param {\n",
       "  num_output: 10\n",
       "  kernel_size: 3\n",
       "  stride: 1\n",
       "  weight_filler {\n",
       "    type: \"xavier\"\n",
       "  }\n",
       "  bias_filler {\n",
       "    type: \"constant\"\n",
       "    value: 0.0\n",
       "  }\n",
       "}"
      ]
     },
     "execution_count": 6,
     "metadata": {},
     "output_type": "execute_result"
    }
   ],
   "source": [
    "net.layer[4]"
   ]
  },
  {
   "cell_type": "code",
   "execution_count": 7,
   "metadata": {
    "pycharm": {
     "name": "#%%\n"
    }
   },
   "outputs": [
    {
     "data": {
      "text/plain": [
       "caffe_pb2.LayerParameter"
      ]
     },
     "execution_count": 7,
     "metadata": {},
     "output_type": "execute_result"
    }
   ],
   "source": [
    "type(net.layer[4])"
   ]
  },
  {
   "cell_type": "code",
   "execution_count": 8,
   "metadata": {
    "collapsed": false,
    "jupyter": {
     "outputs_hidden": false
    },
    "pycharm": {
     "name": "#%%\n"
    }
   },
   "outputs": [
    {
     "data": {
      "text/plain": [
       "'slicer_label'"
      ]
     },
     "execution_count": 8,
     "metadata": {},
     "output_type": "execute_result"
    }
   ],
   "source": [
    "net.layer[1].name"
   ]
  },
  {
   "cell_type": "code",
   "execution_count": null,
   "metadata": {
    "collapsed": false,
    "jupyter": {
     "outputs_hidden": false
    },
    "pycharm": {
     "name": "#%%\n"
    }
   },
   "outputs": [],
   "source": []
  }
 ],
 "metadata": {
  "kernelspec": {
   "display_name": "Python 3 (ipykernel)",
   "language": "python",
   "name": "python3"
  },
  "language_info": {
   "codemirror_mode": {
    "name": "ipython",
    "version": 3
   },
   "file_extension": ".py",
   "mimetype": "text/x-python",
   "name": "python",
   "nbconvert_exporter": "python",
   "pygments_lexer": "ipython3",
   "version": "3.8.2"
  }
 },
 "nbformat": 4,
 "nbformat_minor": 4
}
