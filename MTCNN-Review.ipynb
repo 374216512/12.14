{
 "cells": [
  {
   "cell_type": "markdown",
   "metadata": {
    "pycharm": {
     "name": "#%% md\n"
    }
   },
   "source": [
    "# 1.先面向过程"
   ]
  },
  {
   "cell_type": "code",
   "execution_count": 32,
   "metadata": {
    "pycharm": {
     "name": "#%%\n"
    }
   },
   "outputs": [],
   "source": [
    "import numpy as np\n",
    "import cv2\n",
    "import mtcnn.caffe_pb2 as pb"
   ]
  },
  {
   "cell_type": "code",
   "execution_count": 33,
   "metadata": {
    "pycharm": {
     "name": "#%%\n"
    }
   },
   "outputs": [],
   "source": [
    "net = pb.NetParameter()\n",
    "with open(\"mtcnn/det1.caffemodel\", \"rb\") as f:\n",
    "    net.ParseFromString(f.read())"
   ]
  },
  {
   "cell_type": "code",
   "execution_count": 34,
   "metadata": {
    "pycharm": {
     "name": "#%%\n"
    }
   },
   "outputs": [],
   "source": [
    "layer_mapper = {item.name : item for item in net.layer}"
   ]
  },
  {
   "cell_type": "code",
   "execution_count": 35,
   "metadata": {
    "pycharm": {
     "name": "#%%\n"
    }
   },
   "outputs": [],
   "source": [
    "# x ->      numpy.ndarray\n",
    "# kernel -> caffemodel array\n",
    "# bias ->   caffemodel array\n",
    "def conv2d_forward(x, kernel, bias, in_feature, out_feature, kernel_size, padding=0, stride=1):\n",
    "    in_shape = x.shape\n",
    "    ib, ic, ih, iw = in_shape\n",
    "    oh = (ih + padding * 2 - kernel_size) // stride + 1\n",
    "    ow = (iw + padding * 2 - kernel_size) // stride + 1\n",
    "    col_w = oh * ow\n",
    "    col_h = kernel_size * kernel_size * in_feature\n",
    "    column = np.zeros((ib, col_h, col_w))\n",
    "    output = np.zeros((ib, out_feature, oh, ow))\n",
    "    khalf = kernel_size // 2\n",
    "    kcol = np.array(kernel).reshape(out_feature, -1)\n",
    "    for b in range(ib):\n",
    "        for c in range(ic):\n",
    "            for oy in range(oh):\n",
    "                for ox in range(ow):\n",
    "                    for ky in range(kernel_size):\n",
    "                        for kx in range(kernel_size):\n",
    "                            column_y = ky * kernel_size + kx + c * kernel_size * kernel_size\n",
    "                            column_x = ox + oy * ow\n",
    "                            ix = ox * stride + kx - padding\n",
    "                            iy = oy * stride + ky - padding\n",
    "                            if ix >= 0 and iy >= 0 and ix < iw and iy < ih:\n",
    "                                column[b, column_y, column_x] = x[b, c, iy, ix]\n",
    "        output[b] = (kcol @ column[b]).reshape(out_feature, oh, ow) + np.array(bias).reshape(out_feature, 1, 1)\n",
    "    return output"
   ]
  },
  {
   "cell_type": "code",
   "execution_count": 36,
   "metadata": {
    "pycharm": {
     "name": "#%%\n"
    }
   },
   "outputs": [
    {
     "data": {
      "text/plain": "(dim: 10\n dim: 3\n dim: 3\n dim: 3,\n dim: 10)"
     },
     "execution_count": 36,
     "metadata": {},
     "output_type": "execute_result"
    }
   ],
   "source": [
    "conv1 = layer_mapper[\"conv1\"]\n",
    "# output x input x height x width\n",
    "kernel_weight = conv1.blobs[0]\n",
    "bias_weight = conv1.blobs[1]\n",
    "kernel_weight.shape, bias_weight.shape"
   ]
  },
  {
   "cell_type": "code",
   "execution_count": 37,
   "metadata": {
    "pycharm": {
     "name": "#%%\n"
    }
   },
   "outputs": [
    {
     "data": {
      "text/plain": "(1, 3, 12, 12)"
     },
     "execution_count": 37,
     "metadata": {},
     "output_type": "execute_result"
    }
   ],
   "source": [
    "image = cv2.imread('./deep_img/my.jpg')\n",
    "image = image.transpose(2, 0, 1)[None]\n",
    "image.shape"
   ]
  },
  {
   "cell_type": "code",
   "execution_count": 38,
   "metadata": {
    "pycharm": {
     "name": "#%%\n"
    }
   },
   "outputs": [],
   "source": [
    "conv1_result = conv2d_forward(image, \n",
    "    kernel = kernel_weight.data,\n",
    "    bias = bias_weight.data,\n",
    "    in_feature = 3,\n",
    "    out_feature = 10,\n",
    "    kernel_size = 3,\n",
    "    padding = 0,\n",
    "    stride = 1)"
   ]
  },
  {
   "cell_type": "code",
   "execution_count": 39,
   "metadata": {
    "pycharm": {
     "name": "#%%\n"
    }
   },
   "outputs": [],
   "source": [
    "def prelu(x, weigth):\n",
    "    x = x.copy()\n",
    "    \n",
    "    channels = x.shape[1]\n",
    "    for c in range(channels):\n",
    "        current_channel = x[:, c, :, :]\n",
    "        select = current_channel < 0\n",
    "        current_channel[select] *= weigth[c]\n",
    "    return x"
   ]
  },
  {
   "cell_type": "code",
   "execution_count": 40,
   "metadata": {
    "pycharm": {
     "name": "#%%\n"
    }
   },
   "outputs": [],
   "source": [
    "prelu1_weight = layer_mapper[\"PReLU1\"].blobs[0].data\n",
    "prelu1_result = prelu(conv1_result, prelu1_weight)"
   ]
  },
  {
   "cell_type": "code",
   "execution_count": 41,
   "metadata": {
    "pycharm": {
     "name": "#%%\n"
    }
   },
   "outputs": [],
   "source": [
    "def max_pooling2d(x, kernel_size, stride):\n",
    "    \n",
    "    ib, ic, ih, iw = x.shape\n",
    "    output_height = int(np.ceil((ih - kernel_size) / stride) + 1)\n",
    "    output_width =  int(np.ceil((iw - kernel_size) / stride) + 1)\n",
    "    output = np.zeros((ib, ic, output_height, output_width))\n",
    "    minvalue = float(\"-inf\")\n",
    "    \n",
    "    for b in range(ib):\n",
    "        for c in range(ic):\n",
    "            for oy in range(output_height):\n",
    "                for ox in range(output_width):\n",
    "                    value = minvalue\n",
    "                    for kx in range(kernel_size):\n",
    "                        for ky in range(kernel_size):\n",
    "                            ix = ox * stride + kx\n",
    "                            iy = oy * stride + ky\n",
    "                            if ix < iw and iy < ih:\n",
    "                                value = max(value, x[b, c, iy, ix])\n",
    "                    output[b, c, oy, ox] = value\n",
    "    return output"
   ]
  },
  {
   "cell_type": "code",
   "execution_count": 42,
   "metadata": {
    "pycharm": {
     "name": "#%%\n"
    }
   },
   "outputs": [
    {
     "data": {
      "text/plain": "(1, 10, 5, 5)"
     },
     "execution_count": 42,
     "metadata": {},
     "output_type": "execute_result"
    }
   ],
   "source": [
    "pool1_result = max_pooling2d(prelu1_result, 2, 2)\n",
    "pool1_result.shape"
   ]
  },
  {
   "cell_type": "code",
   "execution_count": 43,
   "metadata": {
    "pycharm": {
     "name": "#%%\n"
    }
   },
   "outputs": [
    {
     "data": {
      "text/plain": "(1, 16, 3, 3)"
     },
     "execution_count": 43,
     "metadata": {},
     "output_type": "execute_result"
    }
   ],
   "source": [
    "conv2 = layer_mapper[\"conv2\"]\n",
    "conv2_result = conv2d_forward(pool1_result, \n",
    "    kernel = conv2.blobs[0].data,\n",
    "    bias = conv2.blobs[1].data,\n",
    "    in_feature = 10,\n",
    "    out_feature = 16,\n",
    "    kernel_size = 3,\n",
    "    padding = 0,\n",
    "    stride = 1)\n",
    "conv2_result.shape"
   ]
  },
  {
   "cell_type": "code",
   "execution_count": 44,
   "metadata": {
    "pycharm": {
     "name": "#%%\n"
    }
   },
   "outputs": [],
   "source": [
    "prelu2_weight = layer_mapper[\"PReLU2\"].blobs[0].data\n",
    "prelu2_result = prelu(conv2_result, prelu2_weight)"
   ]
  },
  {
   "cell_type": "code",
   "execution_count": 45,
   "metadata": {
    "pycharm": {
     "name": "#%%\n"
    }
   },
   "outputs": [
    {
     "data": {
      "text/plain": "(1, 32, 1, 1)"
     },
     "execution_count": 45,
     "metadata": {},
     "output_type": "execute_result"
    }
   ],
   "source": [
    "conv3 = layer_mapper[\"conv3\"]\n",
    "conv3_result = conv2d_forward(prelu2_result, \n",
    "    kernel = conv3.blobs[0].data,\n",
    "    bias = conv3.blobs[1].data,\n",
    "    in_feature = 16,\n",
    "    out_feature = 32,\n",
    "    kernel_size = 3,\n",
    "    padding = 0,\n",
    "    stride = 1)\n",
    "conv3_result.shape"
   ]
  },
  {
   "cell_type": "code",
   "execution_count": 46,
   "metadata": {
    "pycharm": {
     "name": "#%%\n"
    }
   },
   "outputs": [],
   "source": [
    "prelu3_weight = layer_mapper[\"PReLU3\"].blobs[0].data\n",
    "prelu3_result = prelu(conv3_result, prelu3_weight)"
   ]
  },
  {
   "cell_type": "code",
   "execution_count": 47,
   "metadata": {
    "pycharm": {
     "name": "#%%\n"
    }
   },
   "outputs": [
    {
     "data": {
      "text/plain": "((1, 2, 1, 1),\n array([[[[30.88077347]],\n \n         [[44.78912492]]]]))"
     },
     "execution_count": 47,
     "metadata": {},
     "output_type": "execute_result"
    }
   ],
   "source": [
    "conv4 = layer_mapper[\"conv4-1\"]\n",
    "conv4_result = conv2d_forward(prelu3_result, \n",
    "    kernel = conv4.blobs[0].data,\n",
    "    bias = conv4.blobs[1].data,\n",
    "    in_feature = 32,\n",
    "    out_feature = 2,\n",
    "    kernel_size = 1,\n",
    "    padding = 0,\n",
    "    stride = 1)\n",
    "conv4_result.shape, conv4_result"
   ]
  },
  {
   "cell_type": "code",
   "execution_count": 48,
   "metadata": {
    "pycharm": {
     "name": "#%%\n"
    }
   },
   "outputs": [
    {
     "data": {
      "text/plain": "((1, 4, 1, 1),\n array([[[[-0.8295494 ]],\n \n         [[ 5.25484717]],\n \n         [[ 4.38221211]],\n \n         [[ 8.41461643]]]]))"
     },
     "execution_count": 48,
     "metadata": {},
     "output_type": "execute_result"
    }
   ],
   "source": [
    "conv42 = layer_mapper[\"conv4-2\"]\n",
    "conv42_result = conv2d_forward(prelu3_result, \n",
    "    kernel = conv42.blobs[0].data,\n",
    "    bias = conv42.blobs[1].data,\n",
    "    in_feature = 32,\n",
    "    out_feature = 4,\n",
    "    kernel_size = 1,\n",
    "    padding = 0,\n",
    "    stride = 1)\n",
    "conv42_result.shape, conv42_result"
   ]
  },
  {
   "cell_type": "code",
   "execution_count": 49,
   "metadata": {
    "pycharm": {
     "name": "#%%\n"
    }
   },
   "outputs": [],
   "source": [
    "# def conv2d_forward(x, kernel, bias, in_feature, out_feature, kernel_size, padding=0, stride=1):\n",
    "\n",
    "class Conv2d:\n",
    "    def __init__(self, kernel, bias, in_feature, out_feature, kernel_size, padding, stride):\n",
    "        self.kernel = kernel\n",
    "        self.bias = bias\n",
    "        self.in_feature = in_feature\n",
    "        self.out_feature = out_feature\n",
    "        self.kernel_size = kernel_size\n",
    "        self.padding = padding\n",
    "        self.stride = stride\n",
    "    \n",
    "    def forward(self, x):\n",
    "        return conv2d_forward(x, self.kernel, self.bias, self.in_feature, self.out_feature, self.kernel_size, self.padding, self.stride)\n",
    "    \n",
    "# def prelu(x, weigth):\n",
    "class PReLU:\n",
    "    def __init__(self, weight):\n",
    "        self.weight = weight\n",
    "        \n",
    "    def forward(self, x):\n",
    "        return prelu(x, self.weight)\n",
    "    \n",
    "# 亿点点\n",
    "# def max_pooling2d(x, kernel_size, stride):\n",
    "class MaxPooling2d:\n",
    "    def __init__(self, kernel_size, stride):\n",
    "        self.kernel_size = kernel_size\n",
    "        self.stride = stride\n",
    "        \n",
    "    def forward(self, x):\n",
    "        return max_pooling2d(x, self.kernel_size, self.stride)"
   ]
  },
  {
   "cell_type": "code",
   "execution_count": 50,
   "metadata": {
    "pycharm": {
     "name": "#%%\n"
    }
   },
   "outputs": [],
   "source": [
    "conv1_weight = layer_mapper[\"conv1\"]\n",
    "conv1 = Conv2d(\n",
    "    kernel = conv1_weight.blobs[0].data, \n",
    "    bias = conv1_weight.blobs[1].data,\n",
    "    in_feature = 3,\n",
    "    out_feature = 10,\n",
    "    kernel_size = 3,\n",
    "    padding = 0,\n",
    "    stride = 1\n",
    ")\n",
    "\n",
    "prelu1_weight = layer_mapper[\"PReLU1\"]\n",
    "prelu1 = PReLU(prelu1_weight.blobs[0].data)\n",
    "\n",
    "pool1 = MaxPooling2d(2, 2)\n",
    "\n",
    "conv2_weight = layer_mapper[\"conv2\"]\n",
    "conv2 = Conv2d(\n",
    "    kernel = conv2_weight.blobs[0].data, \n",
    "    bias = conv2_weight.blobs[1].data,\n",
    "    in_feature = 10,\n",
    "    out_feature = 16,\n",
    "    kernel_size = 3,\n",
    "    padding = 0,\n",
    "    stride = 1\n",
    ")\n",
    "\n",
    "prelu2_weight = layer_mapper[\"PReLU2\"]\n",
    "prelu2 = PReLU(prelu2_weight.blobs[0].data)\n",
    "\n",
    "conv3_weight = layer_mapper[\"conv3\"]\n",
    "conv3 = Conv2d(\n",
    "    kernel = conv3_weight.blobs[0].data, \n",
    "    bias = conv3_weight.blobs[1].data,\n",
    "    in_feature = 16,\n",
    "    out_feature = 32,\n",
    "    kernel_size = 3,\n",
    "    padding = 0,\n",
    "    stride = 1\n",
    ")\n",
    "\n",
    "prelu3_weight = layer_mapper[\"PReLU3\"]\n",
    "prelu3 = PReLU(prelu3_weight.blobs[0].data)\n",
    "\n",
    "conv41_weight = layer_mapper[\"conv4-1\"]\n",
    "conv41  = Conv2d(\n",
    "    kernel = conv41_weight.blobs[0].data, \n",
    "    bias = conv41_weight.blobs[1].data,\n",
    "    in_feature = 32,\n",
    "    out_feature = 2,\n",
    "    kernel_size = 1,\n",
    "    padding = 0,\n",
    "    stride = 1\n",
    ")\n",
    "\n",
    "conv42_weight = layer_mapper[\"conv4-2\"]\n",
    "conv42  = Conv2d(\n",
    "    kernel = conv42_weight.blobs[0].data, \n",
    "    bias = conv42_weight.blobs[1].data,\n",
    "    in_feature = 32,\n",
    "    out_feature = 4,\n",
    "    kernel_size = 1,\n",
    "    padding = 0,\n",
    "    stride = 1\n",
    ")"
   ]
  }
 ],
 "metadata": {
  "kernelspec": {
   "display_name": "Python 3",
   "language": "python",
   "name": "python3"
  },
  "language_info": {
   "codemirror_mode": {
    "name": "ipython",
    "version": 3
   },
   "file_extension": ".py",
   "mimetype": "text/x-python",
   "name": "python",
   "nbconvert_exporter": "python",
   "pygments_lexer": "ipython3",
   "version": "3.6.4"
  }
 },
 "nbformat": 4,
 "nbformat_minor": 4
}