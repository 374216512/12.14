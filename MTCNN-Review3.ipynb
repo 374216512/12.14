{
 "cells": [
  {
   "cell_type": "markdown",
   "metadata": {
    "pycharm": {
     "name": "#%% md\n"
    }
   },
   "source": [
    "# 1.先面向过程"
   ]
  },
  {
   "cell_type": "code",
   "execution_count": 2,
   "metadata": {
    "pycharm": {
     "name": "#%%\n"
    }
   },
   "outputs": [],
   "source": [
    "import numpy as np\n",
    "import cv2\n",
    "import mtcnn.caffe_pb2 as pb"
   ]
  },
  {
   "cell_type": "code",
   "execution_count": 3,
   "metadata": {
    "pycharm": {
     "name": "#%%\n"
    }
   },
   "outputs": [],
   "source": [
    "net = pb.NetParameter()\n",
    "with open(\"mtcnn/det1.caffemodel\", \"rb\") as f:\n",
    "    net.ParseFromString(f.read())"
   ]
  },
  {
   "cell_type": "code",
   "execution_count": 20,
   "metadata": {
    "pycharm": {
     "name": "#%%\n"
    }
   },
   "outputs": [],
   "source": [
    "layer_mapper = {item.name : item for item in net.layer}"
   ]
  },
  {
   "cell_type": "code",
   "execution_count": 21,
   "metadata": {
    "pycharm": {
     "name": "#%%\n"
    }
   },
   "outputs": [],
   "source": [
    "# x ->      numpy.ndarray\n",
    "# kernel -> caffemodel array\n",
    "# bias ->   caffemodel array\n",
    "def conv2d_forward(x, kernel, bias, in_feature, out_feature, kernel_size, padding=0, stride=1):\n",
    "    in_shape = x.shape\n",
    "    ib, ic, ih, iw = in_shape\n",
    "    oh = (ih + padding * 2 - kernel_size) // stride + 1\n",
    "    ow = (iw + padding * 2 - kernel_size) // stride + 1\n",
    "    col_w = oh * ow\n",
    "    col_h = kernel_size * kernel_size * in_feature\n",
    "    column = np.zeros((ib, col_h, col_w))\n",
    "    output = np.zeros((ib, out_feature, oh, ow))\n",
    "    khalf = kernel_size // 2\n",
    "    kcol = np.array(kernel).reshape(out_feature, -1)\n",
    "    for b in range(ib):\n",
    "        for c in range(ic):\n",
    "            for oy in range(oh):\n",
    "                for ox in range(ow):\n",
    "                    for ky in range(kernel_size):\n",
    "                        for kx in range(kernel_size):\n",
    "                            column_y = ky * kernel_size + kx + c * kernel_size * kernel_size\n",
    "                            column_x = ox + oy * ow\n",
    "                            ix = ox * stride + kx - padding\n",
    "                            iy = oy * stride + ky - padding\n",
    "                            if ix >= 0 and iy >= 0 and ix < iw and iy < ih:\n",
    "                                column[b, column_y, column_x] = x[b, c, iy, ix]\n",
    "        output[b] = (kcol @ column[b]).reshape(out_feature, oh, ow) + np.array(bias).reshape(out_feature, 1, 1)\n",
    "    return output"
   ]
  },
  {
   "cell_type": "code",
   "execution_count": 27,
   "metadata": {
    "pycharm": {
     "name": "#%%\n"
    }
   },
   "outputs": [
    {
     "data": {
      "text/plain": [
       "(dim: 10\n",
       " dim: 3\n",
       " dim: 3\n",
       " dim: 3,\n",
       " dim: 10)"
      ]
     },
     "execution_count": 27,
     "metadata": {},
     "output_type": "execute_result"
    }
   ],
   "source": [
    "conv1 = layer_mapper[\"conv1\"]\n",
    "# output x input x height x width\n",
    "kernel_weight = conv1.blobs[0]\n",
    "bias_weight = conv1.blobs[1]\n",
    "kernel_weight.shape, bias_weight.shape"
   ]
  },
  {
   "cell_type": "code",
   "execution_count": 26,
   "metadata": {
    "pycharm": {
     "name": "#%%\n"
    }
   },
   "outputs": [
    {
     "data": {
      "text/plain": [
       "(1, 3, 12, 12)"
      ]
     },
     "execution_count": 26,
     "metadata": {},
     "output_type": "execute_result"
    }
   ],
   "source": [
    "image = cv2.imread(\"my.jpg\")\n",
    "image = image.transpose(2, 0, 1)[None]\n",
    "image.shape"
   ]
  },
  {
   "cell_type": "code",
   "execution_count": 38,
   "metadata": {
    "pycharm": {
     "name": "#%%\n"
    }
   },
   "outputs": [],
   "source": [
    "conv1_result = conv2d_forward(image, \n",
    "    kernel = kernel_weight.data,\n",
    "    bias = bias_weight.data,\n",
    "    in_feature = 3,\n",
    "    out_feature = 10,\n",
    "    kernel_size = 3,\n",
    "    padding = 0,\n",
    "    stride = 1)"
   ]
  },
  {
   "cell_type": "code",
   "execution_count": 49,
   "metadata": {
    "pycharm": {
     "name": "#%%\n"
    }
   },
   "outputs": [],
   "source": [
    "def prelu(x, weigth):\n",
    "    x = x.copy()\n",
    "    \n",
    "    channels = x.shape[1]\n",
    "    for c in range(channels):\n",
    "        current_channel = x[:, c, :, :]\n",
    "        select = current_channel < 0\n",
    "        current_channel[select] *= weigth[c]\n",
    "    return x"
   ]
  },
  {
   "cell_type": "code",
   "execution_count": 52,
   "metadata": {
    "pycharm": {
     "name": "#%%\n"
    }
   },
   "outputs": [],
   "source": [
    "prelu1_weight = layer_mapper[\"PReLU1\"].blobs[0].data\n",
    "prelu1_result = prelu(conv1_result, prelu1_weight)"
   ]
  },
  {
   "cell_type": "code",
   "execution_count": 63,
   "metadata": {
    "pycharm": {
     "name": "#%%\n"
    }
   },
   "outputs": [],
   "source": [
    "def max_pooling2d(x, kernel_size, stride):\n",
    "    \n",
    "    ib, ic, ih, iw = x.shape\n",
    "    output_height = int(np.ceil((ih - kernel_size) / stride) + 1)\n",
    "    output_width =  int(np.ceil((iw - kernel_size) / stride) + 1)\n",
    "    output = np.zeros((ib, ic, output_height, output_width))\n",
    "    minvalue = float(\"-inf\")\n",
    "    \n",
    "    for b in range(ib):\n",
    "        for c in range(ic):\n",
    "            for oy in range(output_height):\n",
    "                for ox in range(output_width):\n",
    "                    value = minvalue\n",
    "                    for kx in range(kernel_size):\n",
    "                        for ky in range(kernel_size):\n",
    "                            ix = ox * stride + kx\n",
    "                            iy = oy * stride + ky\n",
    "                            if ix < iw and iy < ih:\n",
    "                                value = max(value, x[b, c, iy, ix])\n",
    "                    output[b, c, oy, ox] = value\n",
    "    return output"
   ]
  },
  {
   "cell_type": "code",
   "execution_count": 66,
   "metadata": {
    "pycharm": {
     "name": "#%%\n"
    }
   },
   "outputs": [
    {
     "data": {
      "text/plain": [
       "(1, 10, 5, 5)"
      ]
     },
     "execution_count": 66,
     "metadata": {},
     "output_type": "execute_result"
    }
   ],
   "source": [
    "pool1_result = max_pooling2d(prelu1_result, 2, 2)\n",
    "pool1_result.shape"
   ]
  },
  {
   "cell_type": "code",
   "execution_count": 71,
   "metadata": {
    "pycharm": {
     "name": "#%%\n"
    }
   },
   "outputs": [
    {
     "data": {
      "text/plain": [
       "(1, 16, 3, 3)"
      ]
     },
     "execution_count": 71,
     "metadata": {},
     "output_type": "execute_result"
    }
   ],
   "source": [
    "conv2 = layer_mapper[\"conv2\"]\n",
    "conv2_result = conv2d_forward(pool1_result, \n",
    "    kernel = conv2.blobs[0].data,\n",
    "    bias = conv2.blobs[1].data,\n",
    "    in_feature = 10,\n",
    "    out_feature = 16,\n",
    "    kernel_size = 3,\n",
    "    padding = 0,\n",
    "    stride = 1)\n",
    "conv2_result.shape"
   ]
  },
  {
   "cell_type": "code",
   "execution_count": 72,
   "metadata": {
    "pycharm": {
     "name": "#%%\n"
    }
   },
   "outputs": [],
   "source": [
    "prelu2_weight = layer_mapper[\"PReLU2\"].blobs[0].data\n",
    "prelu2_result = prelu(conv2_result, prelu2_weight)"
   ]
  },
  {
   "cell_type": "code",
   "execution_count": 73,
   "metadata": {
    "pycharm": {
     "name": "#%%\n"
    }
   },
   "outputs": [
    {
     "data": {
      "text/plain": [
       "(1, 32, 1, 1)"
      ]
     },
     "execution_count": 73,
     "metadata": {},
     "output_type": "execute_result"
    }
   ],
   "source": [
    "conv3 = layer_mapper[\"conv3\"]\n",
    "conv3_result = conv2d_forward(prelu2_result, \n",
    "    kernel = conv3.blobs[0].data,\n",
    "    bias = conv3.blobs[1].data,\n",
    "    in_feature = 16,\n",
    "    out_feature = 32,\n",
    "    kernel_size = 3,\n",
    "    padding = 0,\n",
    "    stride = 1)\n",
    "conv3_result.shape"
   ]
  },
  {
   "cell_type": "code",
   "execution_count": 76,
   "metadata": {
    "pycharm": {
     "name": "#%%\n"
    }
   },
   "outputs": [],
   "source": [
    "prelu3_weight = layer_mapper[\"PReLU3\"].blobs[0].data\n",
    "prelu3_result = prelu(conv3_result, prelu3_weight)"
   ]
  },
  {
   "cell_type": "code",
   "execution_count": 77,
   "metadata": {
    "pycharm": {
     "name": "#%%\n"
    }
   },
   "outputs": [
    {
     "data": {
      "text/plain": [
       "((1, 2, 1, 1),\n",
       " array([[[[26.32538968]],\n",
       " \n",
       "         [[50.0453394 ]]]]))"
      ]
     },
     "execution_count": 77,
     "metadata": {},
     "output_type": "execute_result"
    }
   ],
   "source": [
    "conv4 = layer_mapper[\"conv4-1\"]\n",
    "conv4_result = conv2d_forward(prelu3_result, \n",
    "    kernel = conv4.blobs[0].data,\n",
    "    bias = conv4.blobs[1].data,\n",
    "    in_feature = 32,\n",
    "    out_feature = 2,\n",
    "    kernel_size = 1,\n",
    "    padding = 0,\n",
    "    stride = 1)\n",
    "conv4_result.shape, conv4_result"
   ]
  },
  {
   "cell_type": "code",
   "execution_count": 78,
   "metadata": {
    "pycharm": {
     "name": "#%%\n"
    }
   },
   "outputs": [
    {
     "data": {
      "text/plain": [
       "((1, 4, 1, 1),\n",
       " array([[[[-0.95326938]],\n",
       " \n",
       "         [[ 4.97261597]],\n",
       " \n",
       "         [[ 4.53516063]],\n",
       " \n",
       "         [[ 8.28356677]]]]))"
      ]
     },
     "execution_count": 78,
     "metadata": {},
     "output_type": "execute_result"
    }
   ],
   "source": [
    "conv42 = layer_mapper[\"conv4-2\"]\n",
    "conv42_result = conv2d_forward(prelu3_result, \n",
    "    kernel = conv42.blobs[0].data,\n",
    "    bias = conv42.blobs[1].data,\n",
    "    in_feature = 32,\n",
    "    out_feature = 4,\n",
    "    kernel_size = 1,\n",
    "    padding = 0,\n",
    "    stride = 1)\n",
    "conv42_result.shape, conv42_result"
   ]
  },
  {
   "cell_type": "code",
   "execution_count": 79,
   "metadata": {
    "pycharm": {
     "name": "#%%\n"
    }
   },
   "outputs": [],
   "source": [
    "# def conv2d_forward(x, kernel, bias, in_feature, out_feature, kernel_size, padding=0, stride=1):\n",
    "\n",
    "class Conv2d:\n",
    "    def __init__(self, kernel, bias, in_feature, out_feature, kernel_size, padding, stride):\n",
    "        self.kernel = kernel\n",
    "        self.bias = bias\n",
    "        self.in_feature = in_feature\n",
    "        self.out_feature = out_feature\n",
    "        self.kernel_size = kernel_size\n",
    "        self.padding = padding\n",
    "        self.stride = stride\n",
    "    \n",
    "    def forward(self, x):\n",
    "        return conv2d_forward(x, self.kernel, self.bias, self.in_feature, self.out_feature, self.kernel_size, self.padding, self.stride)\n",
    "    \n",
    "# def prelu(x, weigth):\n",
    "class PReLU:\n",
    "    def __init__(self, weight):\n",
    "        self.weight = weight\n",
    "        \n",
    "    def forward(self, x):\n",
    "        return prelu(x, self.weight)\n",
    "    \n",
    "# 亿点点\n",
    "# def max_pooling2d(x, kernel_size, stride):\n",
    "class MaxPooling2d:\n",
    "    def __init__(self, kernel_size, stride):\n",
    "        self.kernel_size = kernel_size\n",
    "        self.stride = stride\n",
    "        \n",
    "    def forward(self, x):\n",
    "        return max_pooling2d(x, self.kernel_size, self.stride)"
   ]
  },
  {
   "cell_type": "code",
   "execution_count": 80,
   "metadata": {
    "pycharm": {
     "name": "#%%\n"
    }
   },
   "outputs": [],
   "source": [
    "conv1_weight = layer_mapper[\"conv1\"]\n",
    "conv1 = Conv2d(\n",
    "    kernel = conv1_weight.blobs[0].data, \n",
    "    bias = conv1_weight.blobs[1].data,\n",
    "    in_feature = 3,\n",
    "    out_feature = 10,\n",
    "    kernel_size = 3,\n",
    "    padding = 0,\n",
    "    stride = 1\n",
    ")\n",
    "\n",
    "prelu1_weight = layer_mapper[\"PReLU1\"]\n",
    "prelu1 = PReLU(prelu1_weight.blobs[0].data)\n",
    "\n",
    "pool1 = MaxPooling2d(2, 2)\n",
    "\n",
    "conv2_weight = layer_mapper[\"conv2\"]\n",
    "conv2 = Conv2d(\n",
    "    kernel = conv2_weight.blobs[0].data, \n",
    "    bias = conv2_weight.blobs[1].data,\n",
    "    in_feature = 10,\n",
    "    out_feature = 16,\n",
    "    kernel_size = 3,\n",
    "    padding = 0,\n",
    "    stride = 1\n",
    ")\n",
    "\n",
    "prelu2_weight = layer_mapper[\"PReLU2\"]\n",
    "prelu2 = PReLU(prelu2_weight.blobs[0].data)\n",
    "\n",
    "conv3_weight = layer_mapper[\"conv3\"]\n",
    "conv3 = Conv2d(\n",
    "    kernel = conv3_weight.blobs[0].data, \n",
    "    bias = conv3_weight.blobs[1].data,\n",
    "    in_feature = 16,\n",
    "    out_feature = 32,\n",
    "    kernel_size = 3,\n",
    "    padding = 0,\n",
    "    stride = 1\n",
    ")\n",
    "\n",
    "prelu3_weight = layer_mapper[\"PReLU3\"]\n",
    "prelu3 = PReLU(prelu3_weight.blobs[0].data)\n",
    "\n",
    "conv41_weight = layer_mapper[\"conv4-1\"]\n",
    "conv41  = Conv2d(\n",
    "    kernel = conv41_weight.blobs[0].data, \n",
    "    bias = conv41_weight.blobs[1].data,\n",
    "    in_feature = 32,\n",
    "    out_feature = 2,\n",
    "    kernel_size = 1,\n",
    "    padding = 0,\n",
    "    stride = 1\n",
    ")\n",
    "\n",
    "conv42_weight = layer_mapper[\"conv4-2\"]\n",
    "conv42  = Conv2d(\n",
    "    kernel = conv42_weight.blobs[0].data, \n",
    "    bias = conv42_weight.blobs[1].data,\n",
    "    in_feature = 32,\n",
    "    out_feature = 4,\n",
    "    kernel_size = 1,\n",
    "    padding = 0,\n",
    "    stride = 1\n",
    ")"
   ]
  },
  {
   "cell_type": "code",
   "execution_count": 86,
   "metadata": {
    "pycharm": {
     "name": "#%%\n"
    }
   },
   "outputs": [
    {
     "data": {
      "text/plain": [
       "(array([[[[26.32538968]],\n",
       " \n",
       "         [[50.0453394 ]]]]),\n",
       " array([[[[-0.95326938]],\n",
       " \n",
       "         [[ 4.97261597]],\n",
       " \n",
       "         [[ 4.53516063]],\n",
       " \n",
       "         [[ 8.28356677]]]]))"
      ]
     },
     "execution_count": 86,
     "metadata": {},
     "output_type": "execute_result"
    }
   ],
   "source": [
    "conv1_result = conv1.forward(image)\n",
    "prelu1_result = prelu1.forward(conv1_result)\n",
    "pool1_result = pool1.forward(prelu1_result)\n",
    "conv2_result = conv2.forward(pool1_result)\n",
    "prelu2_result = prelu2.forward(conv2_result)\n",
    "conv3_result = conv3.forward(prelu2_result)\n",
    "prelu3_result = prelu3.forward(conv3_result)\n",
    "conv41.forward(prelu3_result), conv42.forward(prelu3_result)"
   ]
  },
  {
   "cell_type": "code",
   "execution_count": 87,
   "metadata": {
    "pycharm": {
     "name": "#%%\n"
    }
   },
   "outputs": [],
   "source": [
    "class PNet:\n",
    "    def __init__(self, layer_mapper):\n",
    "        conv1_weight = layer_mapper[\"conv1\"]\n",
    "        prelu1_weight = layer_mapper[\"PReLU1\"]\n",
    "        conv2_weight = layer_mapper[\"conv2\"]\n",
    "        prelu2_weight = layer_mapper[\"PReLU2\"]\n",
    "        conv3_weight = layer_mapper[\"conv3\"]\n",
    "        prelu3_weight = layer_mapper[\"PReLU3\"]\n",
    "        \n",
    "        self.layers = [\n",
    "            Conv2d(\n",
    "                kernel = conv1_weight.blobs[0].data, \n",
    "                bias = conv1_weight.blobs[1].data,\n",
    "                in_feature = 3,\n",
    "                out_feature = 10,\n",
    "                kernel_size = 3,\n",
    "                padding = 0,\n",
    "                stride = 1\n",
    "            ),\n",
    "            PReLU(prelu1_weight.blobs[0].data),\n",
    "            MaxPooling2d(2, 2),\n",
    "            Conv2d(\n",
    "                kernel = conv2_weight.blobs[0].data, \n",
    "                bias = conv2_weight.blobs[1].data,\n",
    "                in_feature = 10,\n",
    "                out_feature = 16,\n",
    "                kernel_size = 3,\n",
    "                padding = 0,\n",
    "                stride = 1\n",
    "            ),\n",
    "            PReLU(prelu2_weight.blobs[0].data),\n",
    "            Conv2d(\n",
    "                kernel = conv3_weight.blobs[0].data, \n",
    "                bias = conv3_weight.blobs[1].data,\n",
    "                in_feature = 16,\n",
    "                out_feature = 32,\n",
    "                kernel_size = 3,\n",
    "                padding = 0,\n",
    "                stride = 1\n",
    "            ),\n",
    "            PReLU(prelu3_weight.blobs[0].data)\n",
    "        ]\n",
    "    \n",
    "        conv41_weight = layer_mapper[\"conv4-1\"]\n",
    "        self.conv41  = Conv2d(\n",
    "            kernel = conv41_weight.blobs[0].data, \n",
    "            bias = conv41_weight.blobs[1].data,\n",
    "            in_feature = 32,\n",
    "            out_feature = 2,\n",
    "            kernel_size = 1,\n",
    "            padding = 0,\n",
    "            stride = 1\n",
    "        )\n",
    "    \n",
    "        conv42_weight = layer_mapper[\"conv4-2\"]\n",
    "        self.conv42  = Conv2d(\n",
    "            kernel = conv42_weight.blobs[0].data, \n",
    "            bias = conv42_weight.blobs[1].data,\n",
    "            in_feature = 32,\n",
    "            out_feature = 4,\n",
    "            kernel_size = 1,\n",
    "            padding = 0,\n",
    "            stride = 1\n",
    "        )\n",
    "        \n",
    "    def forward(self, image):\n",
    "        x = image\n",
    "        for layer in self.layers:\n",
    "            x = layer.forward(x)\n",
    "        \n",
    "        return self.conv41.forward(x), self.conv42.forward(x)"
   ]
  },
  {
   "cell_type": "code",
   "execution_count": 88,
   "metadata": {
    "pycharm": {
     "name": "#%%\n"
    }
   },
   "outputs": [
    {
     "data": {
      "text/plain": [
       "(array([[[[26.32538968]],\n",
       " \n",
       "         [[50.0453394 ]]]]),\n",
       " array([[[[-0.95326938]],\n",
       " \n",
       "         [[ 4.97261597]],\n",
       " \n",
       "         [[ 4.53516063]],\n",
       " \n",
       "         [[ 8.28356677]]]]))"
      ]
     },
     "execution_count": 88,
     "metadata": {},
     "output_type": "execute_result"
    }
   ],
   "source": [
    "pnet = PNet(layer_mapper)\n",
    "pnet.forward(image)"
   ]
  },
  {
   "cell_type": "code",
   "execution_count": 99,
   "metadata": {
    "pycharm": {
     "name": "#%%\n"
    }
   },
   "outputs": [],
   "source": [
    "class Module:\n",
    "    def __call__(self, *args):\n",
    "        return self.forward(*args)\n",
    "\n",
    "# def conv2d_forward(x, kernel, bias, in_feature, out_feature, kernel_size, padding=0, stride=1):\n",
    "class Conv2d(Module):\n",
    "    def __init__(self, in_feature, out_feature, kernel_size, padding=0, stride=1):\n",
    "        self.in_feature = in_feature\n",
    "        self.out_feature = out_feature\n",
    "        self.kernel_size = kernel_size\n",
    "        self.padding = padding\n",
    "        self.stride = stride\n",
    "    \n",
    "    def forward(self, x):\n",
    "        return conv2d_forward(x, self.kernel, self.bias, self.in_feature, self.out_feature, self.kernel_size, self.padding, self.stride)\n",
    "    \n",
    "# def prelu(x, weigth):\n",
    "class PReLU(Module):\n",
    "    def __init__(self): \n",
    "        ...\n",
    "        \n",
    "    def forward(self, x):\n",
    "        return prelu(x, self.weight)\n",
    "    \n",
    "# 亿点点\n",
    "# def max_pooling2d(x, kernel_size, stride):\n",
    "class MaxPooling2d(Module):\n",
    "    def __init__(self, kernel_size, stride):\n",
    "        self.kernel_size = kernel_size\n",
    "        self.stride = stride\n",
    "        \n",
    "    def forward(self, x):\n",
    "        return max_pooling2d(x, self.kernel_size, self.stride)\n",
    "\n",
    "class PNet(Module):\n",
    "    def __init__(self, layer_mapper):\n",
    "        \n",
    "        self.layers = [\n",
    "            Conv2d(3, 10, 3),\n",
    "            PReLU(), \n",
    "            MaxPooling2d(2, 2),\n",
    "            Conv2d(10, 16, 3),\n",
    "            PReLU(),  \n",
    "            Conv2d(16, 32, 3),\n",
    "            PReLU() \n",
    "        ]\n",
    "        self.conv41  = Conv2d(32, 2, 1)\n",
    "        self.conv42  = Conv2d(32, 4, 1)\n",
    "        \n",
    "        # 给所有的layer赋值权重\n",
    "        layer_names = [\"conv1\", \"PReLU1\", \"pool1\", \"conv2\", \"PReLU2\", \"conv3\", \"PReLU3\", \"conv4-1\", \"conv4-2\"]\n",
    "        self.load_param(self.layers + [self.conv41, self.conv42], layer_names, layer_mapper)\n",
    "        \n",
    "    def load_param(self, layers, names, layer_mapper):\n",
    "        \n",
    "        # 假设，layers和names的一一对应的\n",
    "        for name, layer in zip(names, layers):\n",
    "            caffe_weight = layer_mapper[name]\n",
    "            if isinstance(layer, Conv2d):\n",
    "                layer.kernel = caffe_weight.blobs[0].data\n",
    "                layer.bias = caffe_weight.blobs[1].data\n",
    "            elif isinstance(layer, PReLU):\n",
    "                layer.weight = caffe_weight.blobs[0].data\n",
    "        \n",
    "    def forward(self, image):\n",
    "        x = image\n",
    "        for layer in self.layers:\n",
    "            x = layer(x)\n",
    "        \n",
    "        return self.conv41(x), self.conv42(x)"
   ]
  },
  {
   "cell_type": "code",
   "execution_count": 100,
   "metadata": {
    "pycharm": {
     "name": "#%%\n"
    }
   },
   "outputs": [
    {
     "data": {
      "text/plain": [
       "(array([[[[26.32538968]],\n",
       " \n",
       "         [[50.0453394 ]]]]),\n",
       " array([[[[-0.95326938]],\n",
       " \n",
       "         [[ 4.97261597]],\n",
       " \n",
       "         [[ 4.53516063]],\n",
       " \n",
       "         [[ 8.28356677]]]]))"
      ]
     },
     "execution_count": 100,
     "metadata": {},
     "output_type": "execute_result"
    }
   ],
   "source": [
    "pnet = PNet(layer_mapper)\n",
    "pnet(image)"
   ]
  },
  {
   "cell_type": "code",
   "execution_count": null,
   "metadata": {
    "pycharm": {
     "name": "#%%\n"
    }
   },
   "outputs": [],
   "source": []
  }
 ],
 "metadata": {
  "kernelspec": {
   "display_name": "Python 3",
   "language": "python",
   "name": "python3"
  },
  "language_info": {
   "codemirror_mode": {
    "name": "ipython",
    "version": 3
   },
   "file_extension": ".py",
   "mimetype": "text/x-python",
   "name": "python",
   "nbconvert_exporter": "python",
   "pygments_lexer": "ipython3",
   "version": "3.6.4"
  }
 },
 "nbformat": 4,
 "nbformat_minor": 4
}